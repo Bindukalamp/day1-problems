{
  "cells": [
    {
      "cell_type": "markdown",
      "metadata": {
        "id": "view-in-github",
        "colab_type": "text"
      },
      "source": [
        "<a href=\"https://colab.research.google.com/github/Bindukalamp/day1-problems/blob/main/Assignment3sujithamadam.ipynb\" target=\"_parent\"><img src=\"https://colab.research.google.com/assets/colab-badge.svg\" alt=\"Open In Colab\"/></a>"
      ]
    },
    {
      "cell_type": "markdown",
      "metadata": {
        "id": "HZSadYLBVQrG"
      },
      "source": [
        "1. Write a function that returns the middle value among three integers.Write code to test this\n",
        "function with different inputs."
      ]
    },
    {
      "cell_type": "code",
      "execution_count": 82,
      "metadata": {
        "colab": {
          "base_uri": "https://localhost:8080/"
        },
        "id": "ZliwyrChM7aX",
        "outputId": "5dccd570-917e-47b2-e9ba-da7f80467b38"
      },
      "outputs": [
        {
          "output_type": "stream",
          "name": "stdout",
          "text": [
            "Enter the first number: 28\n",
            "Enter the second number: 10\n",
            "Enter the third number: 75\n",
            "the middle number is: 28\n"
          ]
        }
      ],
      "source": [
        "\n",
        "a=int(input(\"Enter the first number: \"))\n",
        "b=int(input(\"Enter the second number: \"))\n",
        "c=int(input(\"Enter the third number: \"))\n",
        "def middle(a,b,c):\n",
        "  if (a>b and a<c) or (a<b and a>c):\n",
        "    return a\n",
        "  elif (b<a and b>c) or (b>a and b<c):\n",
        "    return b\n",
        "  else:\n",
        "    return c\n",
        "\n",
        "middle(a,b,c)\n",
        "print(\"the middle number is:\",middle(a,b,c))\n",
        "\n"
      ]
    },
    {
      "cell_type": "markdown",
      "metadata": {
        "id": "nBM40smUVcCM"
      },
      "source": [
        "2. Build a calculator in Python using functions"
      ]
    },
    {
      "cell_type": "code",
      "source": [
        "def add(a,b):\n",
        "  return a+b\n",
        "def sub(a,b):\n",
        "  return a-b\n",
        "def product(a,b):\n",
        "  return a*b\n",
        "def div(a,b):\n",
        "  return a/b\n",
        "\n",
        "a=int(input('enter first number: '))\n",
        "b=int(input('enter second number: '))\n",
        "choice=int(input('enter 1 for addition \\n enter 2 for subtraction \\n enter 3 for product \\n enter 4 for division: '))\n",
        "if choice==1:\n",
        "  print(f\"The sum of {a} and {b} is {add(a,b)}\")\n",
        "elif choice==2:\n",
        "  print(f\"The difference of {a} and {b} is {sub(a,b)}\")\n",
        "elif choice==3:\n",
        "  print(f\"The product of {a} and {b} is {product(a,b)}\")\n",
        "elif choice==4:\n",
        "  print(f\"The quotient of {a} and {b} is {div(a,b)}\")\n",
        "else:\n",
        "  print(\"Invalid operation\")\n",
        "\n",
        "\n"
      ],
      "metadata": {
        "colab": {
          "base_uri": "https://localhost:8080/"
        },
        "id": "ueGTNPPBQw1g",
        "outputId": "f43577f1-4604-437e-c16a-0b6391afc0f2"
      },
      "execution_count": 88,
      "outputs": [
        {
          "output_type": "stream",
          "name": "stdout",
          "text": [
            "enter first number: 10\n",
            "enter second number: 5\n",
            "enter 1 for addition \n",
            " enter 2 for subtraction \n",
            " enter 3 for product \n",
            " enter 4 for division: 4\n",
            "The quotient of 10 and 5 is 2.0\n"
          ]
        }
      ]
    },
    {
      "cell_type": "markdown",
      "source": [
        "3. Write a function that takes the lengths of the two shorter sides of a right triangle as its\n",
        "parameters. Return the hypotenuse of the triangle, computed using Pythagorean theorem,\n",
        "as the function’s result."
      ],
      "metadata": {
        "id": "1zql2IptX7tN"
      }
    },
    {
      "cell_type": "code",
      "source": [
        "a=float(input(\"Enter the first side of right angled triangle: \"))\n",
        "b=float(input(\"Enter the second side of right angled triangle: \"))\n",
        "from math import sqrt\n",
        "def sides(a,b):\n",
        "  hypotenuse=sqrt(a**2 + b**2)\n",
        "  return hypotenuse\n",
        "sides(a,b)\n",
        "print(f\"The hypotenuse of triangle with sides {a} and {b} is {sides(a,b)}\")"
      ],
      "metadata": {
        "colab": {
          "base_uri": "https://localhost:8080/"
        },
        "id": "WlxSdYYIYFoN",
        "outputId": "d7ec7a56-5f28-40f2-8fbb-a262753f167d"
      },
      "execution_count": 89,
      "outputs": [
        {
          "output_type": "stream",
          "name": "stdout",
          "text": [
            "Enter the first side of right angled triangle: 10\n",
            "Enter the second side of right angled triangle: 20\n",
            "The hypotenuse of triangle with sides 10.0 and 20.0 is 22.360679774997898\n"
          ]
        }
      ]
    },
    {
      "cell_type": "markdown",
      "source": [
        "4. The Rectangle problem\n",
        "\n",
        "(a) Write a Rectangle class in Python language, allowing you to build a rectangle with\n",
        "length and width attributes.\n",
        "\n",
        "(b) Create a Perimeter() method to calculate the perimeter of the rectangle and a Area()\n",
        "method to calculate the area of the rectangle.\n",
        "\n",
        "(c) Create a method display() that display the length, width, perimeter and area of an\n",
        "object created using an instantiation on rectangle class."
      ],
      "metadata": {
        "id": "DnlP0_g3JThM"
      }
    },
    {
      "cell_type": "code",
      "source": [
        "class Rectangle:\n",
        " def __init__(self,length,width):\n",
        "  self.length=length\n",
        "  self.width=width\n",
        "\n",
        " def perimeter_calculation(self):\n",
        "  return (2*self.length + 2*self.width)\n",
        "\n",
        " def area_calculation(self):\n",
        "  return (self.length*self.width)\n",
        "\n",
        " def display(self):\n",
        "  print(f\"length is {self.length}\")\n",
        "  print(f\"width is {self.width}\")\n",
        "  print(f\"perimeter is {perimeter_calculation(self)}\")\n",
        "  print(f\"area is {area_calculation(self)}\")\n",
        "\n",
        "my_rectangle=Rectangle(10,10)\n",
        "my_rectangle.display()\n",
        "\n",
        "\n",
        "\n",
        "\n",
        "\n"
      ],
      "metadata": {
        "colab": {
          "base_uri": "https://localhost:8080/"
        },
        "id": "FQUA8NHkJlrl",
        "outputId": "8757c19d-436d-433b-a79b-710691e0ed80"
      },
      "execution_count": 92,
      "outputs": [
        {
          "output_type": "stream",
          "name": "stdout",
          "text": [
            "length is 10\n",
            "width is 10\n",
            "perimeter is 40\n",
            "area is 100\n"
          ]
        }
      ]
    },
    {
      "cell_type": "markdown",
      "source": [
        "5. The Bank Account problem\n",
        "(a) Create a Python class called BankAccount which represents a bank account, having\n",
        "as attributes: accountNumber (numeric type), name (name of the account owner as\n",
        "string type), balance.\n",
        "\n",
        "(b) Create a constructor with parameters: accountNumber, name, balance.\n",
        "\n",
        "(c) Create a Deposit() method which manages the deposit actions.\n",
        "\n",
        "(d) Create a Withdrawal() method which manages withdrawals actions.\n",
        "\n",
        "(e) Create an bankFees() method to apply the bank fees with a percentage of 5% of the\n",
        "balance account.\n",
        "\n",
        "(f) Create a display() method to display account details.\n"
      ],
      "metadata": {
        "id": "GjoxVDo3XeHk"
      }
    },
    {
      "cell_type": "code",
      "source": [
        "from ast import arguments\n",
        "class Bank_Account:\n",
        "  def __init__(self,accountNumber,name,balance):\n",
        "    self.accountNumber=accountNumber\n",
        "    self.name=name\n",
        "    self.balance=0\n",
        "\n",
        "\n",
        "\n",
        "  def deposit(self):\n",
        "    amt=float(input(\"enter the amount to be deposited: \"))\n",
        "    self.balance+=amt\n",
        "    return self.balance\n",
        "\n",
        "  def withdraw(self):\n",
        "    amt=float(input('enter the amount to be withdrawn: '))\n",
        "    if self.balance>=amt:\n",
        "      self.balance-=amt\n",
        "      print(\"amount withdrawn is: \",amt)\n",
        "    else:\n",
        "      print(\"insufficient balance\")\n",
        "    return self.balance\n",
        "\n",
        "  def bankFees(self):\n",
        "    p=(.05*self.balance)\n",
        "    print(\"the bank fee is\",p)\n",
        "    return p\n",
        "\n",
        "\n",
        "\n",
        "\n",
        "  def display(self):\n",
        "    print(\"Available balance is \",self.balance)\n",
        "\n",
        "\n",
        "bank= Bank_Account(300120884, \"binukala\" ,0)\n",
        "bank.deposit()\n",
        "bank.withdraw()\n",
        "bank.bankFees()\n",
        "bank.display()"
      ],
      "metadata": {
        "colab": {
          "base_uri": "https://localhost:8080/"
        },
        "id": "29g8ajnFaBHc",
        "outputId": "968560e0-086a-4d2d-8204-ad5d54db2344"
      },
      "execution_count": 112,
      "outputs": [
        {
          "output_type": "stream",
          "name": "stdout",
          "text": [
            "enter the amount to be deposited: 150\n",
            "enter the amount to be withdrawn: 50\n",
            "amount withdrawn is:  50.0\n",
            "the bank fee is 5.0\n",
            "Available balance is  100.0\n"
          ]
        }
      ]
    }
  ],
  "metadata": {
    "colab": {
      "provenance": [],
      "authorship_tag": "ABX9TyOHf3VgO0Qms9WzzzpAgf3Z",
      "include_colab_link": true
    },
    "kernelspec": {
      "display_name": "Python 3",
      "name": "python3"
    },
    "language_info": {
      "name": "python"
    }
  },
  "nbformat": 4,
  "nbformat_minor": 0
}