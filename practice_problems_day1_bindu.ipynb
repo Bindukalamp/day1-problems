{
  "nbformat": 4,
  "nbformat_minor": 0,
  "metadata": {
    "colab": {
      "provenance": []
    },
    "kernelspec": {
      "name": "python3",
      "display_name": "Python 3"
    },
    "language_info": {
      "name": "python"
    }
  },
  "cells": [
    {
      "cell_type": "markdown",
      "source": [
        "1.Given the string \"Hello, World!\", extract and print the substring \"Hello\"."
      ],
      "metadata": {
        "id": "mAIqRDgmBq59"
      }
    },
    {
      "cell_type": "code",
      "execution_count": 3,
      "metadata": {
        "colab": {
          "base_uri": "https://localhost:8080/"
        },
        "id": "amcHf8hSiGEZ",
        "outputId": "350c1ac5-87d4-4cc5-ed65-ee44f7e42854"
      },
      "outputs": [
        {
          "output_type": "stream",
          "name": "stdout",
          "text": [
            "Hello\n"
          ]
        }
      ],
      "source": [
        "a=\"Hello, World!\"\n",
        "print(a[0:5])"
      ]
    },
    {
      "cell_type": "markdown",
      "source": [
        "2.Given the string \"Python is fun\", extract and print the substring \"is\"."
      ],
      "metadata": {
        "id": "ZcyWR_igDPxM"
      }
    },
    {
      "cell_type": "code",
      "source": [
        "b=\"Python is fun \"\n",
        "print(b[-7:-5])"
      ],
      "metadata": {
        "colab": {
          "base_uri": "https://localhost:8080/"
        },
        "id": "n-DfLju5kHg0",
        "outputId": "7caab3f6-9d2a-4c2c-cdf1-bf32e6275d99"
      },
      "execution_count": null,
      "outputs": [
        {
          "output_type": "stream",
          "name": "stdout",
          "text": [
            "is\n"
          ]
        }
      ]
    },
    {
      "cell_type": "markdown",
      "source": [
        "3.Given the string \"Programming\", extract and print the substring \"gram\" using slicing indices.\n"
      ],
      "metadata": {
        "id": "lW9SAd2OCyNT"
      }
    },
    {
      "cell_type": "code",
      "source": [
        "c=\"Programming\"\n",
        "print(c[3:7])\n"
      ],
      "metadata": {
        "colab": {
          "base_uri": "https://localhost:8080/"
        },
        "id": "3LzmGPicDa7M",
        "outputId": "f04c425d-886a-434e-9ffc-c1c3d808a693"
      },
      "execution_count": null,
      "outputs": [
        {
          "output_type": "stream",
          "name": "stdout",
          "text": [
            "gram\n"
          ]
        }
      ]
    },
    {
      "cell_type": "markdown",
      "source": [
        "4.Given the string \"abcdefgh\", use slicing to print only the characters at even indices."
      ],
      "metadata": {
        "id": "GvGJslbDD58T"
      }
    },
    {
      "cell_type": "code",
      "source": [
        "p=\"abcdefgh\"\n",
        "print(p[0:9:2])\n"
      ],
      "metadata": {
        "colab": {
          "base_uri": "https://localhost:8080/"
        },
        "id": "Ln1WJoa9D9iy",
        "outputId": "4e724557-a827-40a4-e2b8-8d1502043942"
      },
      "execution_count": null,
      "outputs": [
        {
          "output_type": "stream",
          "name": "stdout",
          "text": [
            "aceg\n"
          ]
        }
      ]
    },
    {
      "cell_type": "markdown",
      "source": [
        "5.Given the string \"abcdefg\", use negative indices to extract and print the substring \"efg\"."
      ],
      "metadata": {
        "id": "PWBj0PnXEwzM"
      }
    },
    {
      "cell_type": "code",
      "source": [
        "q=\"abcdefg \"\n",
        "print(q[-4:-1])"
      ],
      "metadata": {
        "colab": {
          "base_uri": "https://localhost:8080/"
        },
        "id": "PDouXVUnE8bj",
        "outputId": "2e17e596-f29b-4b77-f051-dd947bce8d37"
      },
      "execution_count": null,
      "outputs": [
        {
          "output_type": "stream",
          "name": "stdout",
          "text": [
            "efg\n"
          ]
        }
      ]
    },
    {
      "cell_type": "markdown",
      "source": [
        "6.Given the string \"Data Science\", use negative indices to extract and print the last three characters."
      ],
      "metadata": {
        "id": "l_25VC-6FmdL"
      }
    },
    {
      "cell_type": "code",
      "source": [
        "r= \"Data Science \"\n",
        "print(r[-4:-1])"
      ],
      "metadata": {
        "colab": {
          "base_uri": "https://localhost:8080/"
        },
        "id": "P4Hee_ARFpqj",
        "outputId": "bfc46e95-011d-4b4e-c539-b5d9f52bc9b2"
      },
      "execution_count": null,
      "outputs": [
        {
          "output_type": "stream",
          "name": "stdout",
          "text": [
            "nce\n"
          ]
        }
      ]
    },
    {
      "cell_type": "markdown",
      "source": [
        "7.Given the string \"abcdefghij\", use slicing with a step to print every second character."
      ],
      "metadata": {
        "id": "pORAXWc3GWn5"
      }
    },
    {
      "cell_type": "code",
      "source": [
        "z= \"abcdefghij \"\n",
        "print(z[0:11:2])"
      ],
      "metadata": {
        "colab": {
          "base_uri": "https://localhost:8080/"
        },
        "id": "qUEM9cVUGeIX",
        "outputId": "3a6ce6af-d387-4e29-95e2-e4107230e15b"
      },
      "execution_count": null,
      "outputs": [
        {
          "output_type": "stream",
          "name": "stdout",
          "text": [
            "acegi \n"
          ]
        }
      ]
    },
    {
      "cell_type": "markdown",
      "source": [
        "8.Given the string \"1234567890\", use slicing with a step to print the odd digits."
      ],
      "metadata": {
        "id": "KbM4grH3GhRA"
      }
    },
    {
      "cell_type": "code",
      "source": [
        "r=\"1234567890\"\n",
        "print(r[0:10:2])"
      ],
      "metadata": {
        "colab": {
          "base_uri": "https://localhost:8080/"
        },
        "id": "wcRmCdYqGq9W",
        "outputId": "98be6eeb-4d82-414f-8344-a52129dabb55"
      },
      "execution_count": null,
      "outputs": [
        {
          "output_type": "stream",
          "name": "stdout",
          "text": [
            "13579\n"
          ]
        }
      ]
    },
    {
      "cell_type": "markdown",
      "source": [
        "9.Given the string \"Hello\", use slicing to print the string in reverse order."
      ],
      "metadata": {
        "id": "nvTL4WHYGrxf"
      }
    },
    {
      "cell_type": "code",
      "source": [
        "t=\"Hello\"\n",
        "print(t[::-1])"
      ],
      "metadata": {
        "colab": {
          "base_uri": "https://localhost:8080/"
        },
        "id": "aGiN_0ZUGz5T",
        "outputId": "8e4d2c7d-136f-45a5-caab-cf4441ad2baa"
      },
      "execution_count": null,
      "outputs": [
        {
          "output_type": "stream",
          "name": "stdout",
          "text": [
            "olleH\n"
          ]
        }
      ]
    },
    {
      "cell_type": "markdown",
      "source": [
        "10.Given the string \"abcdefghijk\", extract and print the substring \"acegik\" using slicing."
      ],
      "metadata": {
        "id": "fHsl3KQ4Hfej"
      }
    },
    {
      "cell_type": "code",
      "source": [
        "y=\"abcdefghijk\"\n",
        "print(y[0:12:2])"
      ],
      "metadata": {
        "colab": {
          "base_uri": "https://localhost:8080/"
        },
        "id": "UOyzoETaHoZ6",
        "outputId": "fa7612c0-48b5-40b1-a773-59e4b7e67e12"
      },
      "execution_count": null,
      "outputs": [
        {
          "output_type": "stream",
          "name": "stdout",
          "text": [
            "acegik\n"
          ]
        }
      ]
    }
  ]
}